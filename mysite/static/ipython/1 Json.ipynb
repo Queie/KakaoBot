{
 "cells": [
  {
   "cell_type": "markdown",
   "metadata": {},
   "source": [
    "<br>\n",
    "# **Json 객체의 이해**"
   ]
  },
  {
   "cell_type": "markdown",
   "metadata": {},
   "source": [
    "<br>\n",
    "## **1 [ List ] 객체의 이해**\n",
    "1. [ list ]\n",
    "1. 객체의 순서가 정해져 있다\n",
    "1. 때문에 위치의 절대 주소를 찾기 쉽다\n",
    "1. 하지만 검색시 순서에 영향을 받는다"
   ]
  },
  {
   "cell_type": "code",
   "execution_count": 1,
   "metadata": {},
   "outputs": [
    {
     "data": {
      "text/plain": [
       "[1, 2, 3, 4, 5, 'django', 'kakao', 'ms']"
      ]
     },
     "execution_count": 1,
     "metadata": {},
     "output_type": "execute_result"
    }
   ],
   "source": [
    "content = [1,2,3,4,5,'django', 'kakao', 'ms']\n",
    "content"
   ]
  },
  {
   "cell_type": "code",
   "execution_count": 2,
   "metadata": {},
   "outputs": [
    {
     "data": {
      "text/plain": [
       "1"
      ]
     },
     "execution_count": 2,
     "metadata": {},
     "output_type": "execute_result"
    }
   ],
   "source": [
    "content[0]"
   ]
  },
  {
   "cell_type": "code",
   "execution_count": 3,
   "metadata": {},
   "outputs": [
    {
     "data": {
      "text/plain": [
       "[1, 2, 3]"
      ]
     },
     "execution_count": 3,
     "metadata": {},
     "output_type": "execute_result"
    }
   ],
   "source": [
    "content[:3]"
   ]
  },
  {
   "cell_type": "markdown",
   "metadata": {},
   "source": [
    "<br>\n",
    "## **2 { dict } 객체의 이해**\n",
    "\n",
    "1. { dict }\n",
    "1. 객체의 주소값을 임의로 정할 수 있다\n",
    "1. [ list ] 에 비해서 검색에 용이하다\n",
    "1. 소분류, 중분류, 대분류 구조를 잘 짜면 성능개선에 용이하다"
   ]
  },
  {
   "cell_type": "code",
   "execution_count": 4,
   "metadata": {},
   "outputs": [
    {
     "data": {
      "text/plain": [
       "{'Django': 2, 'Python': 3.6}"
      ]
     },
     "execution_count": 4,
     "metadata": {},
     "output_type": "execute_result"
    }
   ],
   "source": [
    "content = { 'Python' : 3.6 , 'Django' : 2 }\n",
    "content"
   ]
  },
  {
   "cell_type": "code",
   "execution_count": 5,
   "metadata": {},
   "outputs": [
    {
     "data": {
      "text/plain": [
       "dict_keys(['Python', 'Django'])"
      ]
     },
     "execution_count": 5,
     "metadata": {},
     "output_type": "execute_result"
    }
   ],
   "source": [
    "content.keys()"
   ]
  },
  {
   "cell_type": "code",
   "execution_count": 6,
   "metadata": {},
   "outputs": [
    {
     "data": {
      "text/plain": [
       "3.6"
      ]
     },
     "execution_count": 6,
     "metadata": {},
     "output_type": "execute_result"
    }
   ],
   "source": [
    "content['Python']"
   ]
  },
  {
   "cell_type": "code",
   "execution_count": 7,
   "metadata": {},
   "outputs": [
    {
     "data": {
      "text/plain": [
       "2"
      ]
     },
     "execution_count": 7,
     "metadata": {},
     "output_type": "execute_result"
    }
   ],
   "source": [
    "content['Django']"
   ]
  },
  {
   "cell_type": "markdown",
   "metadata": {},
   "source": [
    "<br>\n",
    "## **3 Django 에서 { content } 객체의 이해**\n",
    "\n",
    "1. 파이썬의 { dict } 을 웹에서 사용하는 { Json } 으로 전달하기 위한 객체를 Content라고 한다\n",
    "1. { dict } 을 웹에서 사용하는 형식을 Json이라 부른다\n",
    "1. Json 과 같은 형식을 파이썬에서 { dict } 객체로 사용"
   ]
  },
  {
   "cell_type": "code",
   "execution_count": 8,
   "metadata": {},
   "outputs": [],
   "source": [
    "keyboard = {\n",
    "    'type':'buttons',\n",
    "    'buttons':['장고', '카톡', '시간'],\n",
    "}\n",
    "\n",
    "answer = {\n",
    "    'message':{\n",
    "        'text':'공사중 입니다',\n",
    "        },\n",
    "    'keyboard':{\n",
    "        'type':'buttons',\n",
    "        'buttons':['장고', '카톡', '시간'],\n",
    "        }\n",
    "    }"
   ]
  },
  {
   "cell_type": "code",
   "execution_count": 9,
   "metadata": {},
   "outputs": [
    {
     "data": {
      "text/plain": [
       "{'buttons': ['장고', '카톡', '시간'], 'type': 'buttons'}"
      ]
     },
     "execution_count": 9,
     "metadata": {},
     "output_type": "execute_result"
    }
   ],
   "source": [
    "keyboard"
   ]
  },
  {
   "cell_type": "code",
   "execution_count": 10,
   "metadata": {},
   "outputs": [
    {
     "data": {
      "text/plain": [
       "{'keyboard': {'buttons': ['장고', '카톡', '시간'], 'type': 'buttons'},\n",
       " 'message': {'text': '공사중 입니다'}}"
      ]
     },
     "execution_count": 10,
     "metadata": {},
     "output_type": "execute_result"
    }
   ],
   "source": [
    "answer"
   ]
  },
  {
   "cell_type": "code",
   "execution_count": 11,
   "metadata": {},
   "outputs": [
    {
     "data": {
      "text/plain": [
       "dict_keys(['type', 'buttons'])"
      ]
     },
     "execution_count": 11,
     "metadata": {},
     "output_type": "execute_result"
    }
   ],
   "source": [
    "keyboard.keys()"
   ]
  },
  {
   "cell_type": "code",
   "execution_count": 12,
   "metadata": {},
   "outputs": [
    {
     "data": {
      "text/plain": [
       "dict_keys(['message', 'keyboard'])"
      ]
     },
     "execution_count": 12,
     "metadata": {},
     "output_type": "execute_result"
    }
   ],
   "source": [
    "answer.keys()"
   ]
  },
  {
   "cell_type": "code",
   "execution_count": 13,
   "metadata": {},
   "outputs": [
    {
     "data": {
      "text/plain": [
       "dict_keys(['type', 'buttons'])"
      ]
     },
     "execution_count": 13,
     "metadata": {},
     "output_type": "execute_result"
    }
   ],
   "source": [
    "answer['keyboard'].keys()"
   ]
  },
  {
   "cell_type": "code",
   "execution_count": 14,
   "metadata": {},
   "outputs": [
    {
     "data": {
      "text/plain": [
       "'buttons'"
      ]
     },
     "execution_count": 14,
     "metadata": {},
     "output_type": "execute_result"
    }
   ],
   "source": [
    "# 객체의 속성함수를 연결해서 사용\n",
    "# Chain Method\n",
    "answer['keyboard']['type']"
   ]
  },
  {
   "cell_type": "markdown",
   "metadata": {},
   "source": [
    "<br>\n",
    "## **04 Indent**\n",
    "\n",
    "1. Python 문법에서 기본으로 적용되는 규칙\n",
    "1. 기호대신 공백간격의 길이를 통해서 객체가 묶인다"
   ]
  },
  {
   "cell_type": "code",
   "execution_count": 15,
   "metadata": {},
   "outputs": [
    {
     "name": "stdout",
     "output_type": "stream",
     "text": [
      "0\n",
      "1\n",
      "2\n"
     ]
    }
   ],
   "source": [
    "for i in range(3):\n",
    "    print(i)"
   ]
  },
  {
   "cell_type": "code",
   "execution_count": 16,
   "metadata": {},
   "outputs": [
    {
     "name": "stdout",
     "output_type": "stream",
     "text": [
      "2\n"
     ]
    }
   ],
   "source": [
    "for i in range(3):\n",
    "    pass\n",
    "print(i)"
   ]
  },
  {
   "cell_type": "code",
   "execution_count": 17,
   "metadata": {},
   "outputs": [
    {
     "data": {
      "text/plain": [
       "{'keyboard': {'buttons': ['장고', '카톡', '시간'], 'type': 'buttons'},\n",
       " 'message': {'text': '공사중 입니다'}}"
      ]
     },
     "execution_count": 17,
     "metadata": {},
     "output_type": "execute_result"
    }
   ],
   "source": [
    "answer = { \n",
    "    \n",
    "    'message' : {  'text':'공사중 입니다', },\n",
    "    \n",
    "    'keyboard' : { 'type':'buttons',\n",
    "                        'buttons':['장고', '카톡', '시간'], }\n",
    "    }\n",
    "answer"
   ]
  },
  {
   "cell_type": "code",
   "execution_count": 18,
   "metadata": {},
   "outputs": [
    {
     "data": {
      "text/plain": [
       "{'keyboard': {'buttons': ['장고', '카톡', '시간'], 'type': 'buttons'},\n",
       " 'message': {'text': '공사중 입니다'}}"
      ]
     },
     "execution_count": 18,
     "metadata": {},
     "output_type": "execute_result"
    }
   ],
   "source": [
    "answer = {\n",
    "\n",
    "    'message':{\n",
    "\n",
    "        'text':'공사중 입니다',\n",
    "        \n",
    "        },\n",
    "    \n",
    "    'keyboard':{\n",
    "  \n",
    "        'type':'buttons',\n",
    "        \n",
    "        'buttons':['장고', '카톡', '시간'],\n",
    "        \n",
    "        }\n",
    "\n",
    "  }\n",
    "answer"
   ]
  },
  {
   "cell_type": "code",
   "execution_count": 19,
   "metadata": {},
   "outputs": [
    {
     "data": {
      "text/plain": [
       "{'keyboard': {'buttons': ['장고', '카톡', '시간'], 'type': 'buttons'},\n",
       " 'message': {'text': '공사중 입니다'}}"
      ]
     },
     "execution_count": 19,
     "metadata": {},
     "output_type": "execute_result"
    }
   ],
   "source": [
    "answer = {\n",
    "    'message':{\n",
    "        'text':'공사중 입니다',\n",
    "        },\n",
    "    'keyboard':{\n",
    "        'type':'buttons',\n",
    "        'buttons':['장고', '카톡', '시간'],\n",
    "        }\n",
    "    }\n",
    "answer"
   ]
  },
  {
   "cell_type": "code",
   "execution_count": null,
   "metadata": {},
   "outputs": [],
   "source": []
  }
 ],
 "metadata": {
  "kernelspec": {
   "display_name": "Python 3",
   "language": "python",
   "name": "python3"
  },
  "language_info": {
   "codemirror_mode": {
    "name": "ipython",
    "version": 3
   },
   "file_extension": ".py",
   "mimetype": "text/x-python",
   "name": "python",
   "nbconvert_exporter": "python",
   "pygments_lexer": "ipython3",
   "version": "3.6.3"
  }
 },
 "nbformat": 4,
 "nbformat_minor": 2
}
