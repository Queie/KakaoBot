{
 "cells": [
  {
   "cell_type": "markdown",
   "metadata": {},
   "source": [
    "<br>\n",
    "# **if 판단문과 Content**\n",
    "복잡한 Json 작업하기"
   ]
  },
  {
   "cell_type": "markdown",
   "metadata": {},
   "source": [
    "<br>\n",
    "## **1 if 판단문, for 반복문**"
   ]
  },
  {
   "cell_type": "code",
   "execution_count": 1,
   "metadata": {},
   "outputs": [
    {
     "name": "stdout",
     "output_type": "stream",
     "text": [
      "장고 내용이 포함되어 있습니다\n"
     ]
    }
   ],
   "source": [
    "# 원하는 내용이 조건에 포함여부를 판단합니다\n",
    "# indent 를 기준으로 묶음을 나누게 됩니다\n",
    "text = '장고'\n",
    "if text in ['장고', '카톡', '시간']:\n",
    "    print(text + ' 내용이 포함되어 있습니다')\n",
    "else : \n",
    "    print('내용을 다시 확인해 주세요')"
   ]
  },
  {
   "cell_type": "markdown",
   "metadata": {},
   "source": [
    "<br>\n",
    "## **2 간단한 Content 작업하기**"
   ]
  },
  {
   "cell_type": "code",
   "execution_count": 2,
   "metadata": {},
   "outputs": [
    {
     "data": {
      "text/plain": [
       "{'keyboard': {'buttons': ['장고', '카톡', '시간'], 'type': 'buttons'},\n",
       " 'message': {'text': '공사중 입니다'}}"
      ]
     },
     "execution_count": 2,
     "metadata": {},
     "output_type": "execute_result"
    }
   ],
   "source": [
    "content = {\n",
    "  'message':{\n",
    "      'text':'공사중 입니다',\n",
    "      },\n",
    "  'keyboard':{\n",
    "      'type':'buttons',\n",
    "      'buttons':['장고', '카톡', '시간'],\n",
    "      }\n",
    "  }\n",
    "\n",
    "content"
   ]
  },
  {
   "cell_type": "markdown",
   "metadata": {},
   "source": [
    "<br>\n",
    "## **3 복잡한 Content 작업하기**\n",
    "1. 코드에서 바로 작업하면 오류 부분을 찾고 수정하기 어렵다\n",
    "1. 구분가능한 객체별로 따로 구분하여 작업하여 완결성을 확인하며 작업을 한다"
   ]
  },
  {
   "cell_type": "code",
   "execution_count": 3,
   "metadata": {},
   "outputs": [
    {
     "data": {
      "text/plain": [
       "{'keyboard': {'buttons': ['처음으로', '다시 등록하기', '취소하기'], 'type': 'buttons'},\n",
       " 'message': {'message_button': {'label': '주유 쿠폰받기',\n",
       "   'url': 'https://coupon/url'},\n",
       "  'photo': {'height': 480, 'url': 'https://photo.src', 'width': 640},\n",
       "  'text': '귀하의 차량이 성공적으로 등록되었습니다. 축하합니다!'}}"
      ]
     },
     "execution_count": 3,
     "metadata": {},
     "output_type": "execute_result"
    }
   ],
   "source": [
    "content = {\n",
    "  \"message\": {\n",
    "    \"text\": \"귀하의 차량이 성공적으로 등록되었습니다. 축하합니다!\",\n",
    "    \"photo\": {\n",
    "      \"url\": \"https://photo.src\",\n",
    "      \"width\": 640,\n",
    "      \"height\": 480\n",
    "    },\n",
    "    \"message_button\": {\n",
    "      \"label\": \"주유 쿠폰받기\",\n",
    "      \"url\": \"https://coupon/url\"\n",
    "    }\n",
    "  },\n",
    "  \"keyboard\": {\n",
    "    \"type\": \"buttons\",\n",
    "    \"buttons\": [\n",
    "      \"처음으로\",\n",
    "      \"다시 등록하기\",\n",
    "      \"취소하기\"\n",
    "    ]\n",
    "  }\n",
    "}\n",
    "content"
   ]
  },
  {
   "cell_type": "code",
   "execution_count": 4,
   "metadata": {},
   "outputs": [
    {
     "data": {
      "text/plain": [
       "{'keyboard': {'buttons': ['장고', '카톡', '시간'], 'type': 'buttons'},\n",
       " 'message': {'message_button': {'label': 'Git Hub',\n",
       "   'url': 'https://github.com/plusfriend/auto_reply'},\n",
       "  'photo': {'height': 480,\n",
       "   'url': 'https://i.pinimg.com/originals/50/c0/b0/50c0b0b9a104a8cd766477edd0da9bb4.gif',\n",
       "   'width': 480},\n",
       "  'text': 'Django로 만든 카카오톡 API'}}"
      ]
     },
     "execution_count": 4,
     "metadata": {},
     "output_type": "execute_result"
    }
   ],
   "source": [
    "content = {\n",
    "  \"message\": {\n",
    "    \"text\": \"Django로 만든 카카오톡 API\",\n",
    "    \"photo\": {\n",
    "      \"url\": \"https://i.pinimg.com/originals/50/c0/b0/50c0b0b9a104a8cd766477edd0da9bb4.gif\",\n",
    "      \"width\": 480,\n",
    "      \"height\": 480\n",
    "    },\n",
    "    \"message_button\": {\n",
    "      \"label\": \"Git Hub\",\n",
    "      \"url\": \"https://github.com/plusfriend/auto_reply\"\n",
    "   }},\n",
    "  'keyboard':{\n",
    "      'type':'buttons',\n",
    "      'buttons':['장고', '카톡', '시간'],\n",
    "      }\n",
    "  }\n",
    "\n",
    "content"
   ]
  },
  {
   "cell_type": "markdown",
   "metadata": {},
   "source": [
    "<br>\n",
    "## **4 파이썬 함수결과를  Content 에 추가하기**\n",
    "1. 이제부턴 파이썬의 기본을 알아야 한다\n",
    "1. 파이썬에서 객체 완결성만 확인하면 된다\n",
    "1. 파이썬에서 객체를 완전하게 생성한 뒤 Json으로 넘기는건 자동으로 해준다"
   ]
  },
  {
   "cell_type": "code",
   "execution_count": 5,
   "metadata": {},
   "outputs": [
    {
     "data": {
      "text/plain": [
       "' 20시 10분 3초'"
      ]
     },
     "execution_count": 5,
     "metadata": {},
     "output_type": "execute_result"
    }
   ],
   "source": [
    "import time, json\n",
    "now = time.localtime()\n",
    "nowtime = \" {}시 {}분 {}초\".format(now.tm_hour + 9 , now.tm_min, now.tm_sec)\n",
    "nowtime"
   ]
  },
  {
   "cell_type": "code",
   "execution_count": 6,
   "metadata": {},
   "outputs": [
    {
     "data": {
      "text/plain": [
       "{'시간': {'keyboard': {'buttons': ['장고', '카톡', '시간'], 'type': 'buttons'},\n",
       "  'message': {'text': '현재 시간은 20시 10분 3초입니다'}}}"
      ]
     },
     "execution_count": 6,
     "metadata": {},
     "output_type": "execute_result"
    }
   ],
   "source": [
    "content = {\n",
    "    '시간': {\n",
    "        'message': {\n",
    "            'text': '현재 시간은' + nowtime +'입니다'\n",
    "        },\n",
    "            'keyboard':{\n",
    "                'type':'buttons',\n",
    "                'buttons':['장고', '카톡', '시간'],\n",
    "            }\n",
    "        },\n",
    "    }\n",
    "content"
   ]
  },
  {
   "cell_type": "code",
   "execution_count": null,
   "metadata": {},
   "outputs": [],
   "source": []
  }
 ],
 "metadata": {
  "kernelspec": {
   "display_name": "Python 3",
   "language": "python",
   "name": "python3"
  },
  "language_info": {
   "codemirror_mode": {
    "name": "ipython",
    "version": 3
   },
   "file_extension": ".py",
   "mimetype": "text/x-python",
   "name": "python",
   "nbconvert_exporter": "python",
   "pygments_lexer": "ipython3",
   "version": "3.6.3"
  }
 },
 "nbformat": 4,
 "nbformat_minor": 2
}
