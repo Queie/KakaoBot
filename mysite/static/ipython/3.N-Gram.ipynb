{
 "cells": [
  {
   "cell_type": "markdown",
   "metadata": {},
   "source": [
    "<br>\n",
    "# **N-Gram**\n",
    "1. 단어를 분석하는 방법 중 하나\n",
    "1. 여기서 N은 단어의 묶음갯수, 또는 글자의 묶음갯수 모두가능\n",
    "1. 이번에는 문장이 짧으므로 글자의 묶음갯수를 기준으로 작업을 진행할 예정이다"
   ]
  },
  {
   "cell_type": "markdown",
   "metadata": {},
   "source": [
    "<br>\n",
    "## 1 **N-gram**\n",
    "1. 문장의 단어들을 잘게 나누기\n",
    "1. 접두어 접미어가 모두있는 한글의 특성상 앞/뒤 구분없이 잘르는 작업이 효과적\n",
    "1. 단 단어사이를 모두 연결시 의도치 않은 단어가 생성 가능하므로, 단어끼리는 나눠서 작업을 한다"
   ]
  },
  {
   "cell_type": "code",
   "execution_count": 8,
   "metadata": {},
   "outputs": [
    {
     "data": {
      "text/plain": [
       "['오늘의', '날씨는', '어떻게', '되나요']"
      ]
     },
     "execution_count": 8,
     "metadata": {},
     "output_type": "execute_result"
    }
   ],
   "source": [
    "sentence = '오늘의 날씨는 어떻게 되나요'\n",
    "texts    = sentence.split(' ')\n",
    "texts"
   ]
  },
  {
   "cell_type": "code",
   "execution_count": 10,
   "metadata": {},
   "outputs": [
    {
     "data": {
      "text/plain": [
       "['장고', 'wework', 2018]"
      ]
     },
     "execution_count": 10,
     "metadata": {},
     "output_type": "execute_result"
    }
   ],
   "source": [
    "# [ list ] 의 Append\n",
    "result = []\n",
    "result.append('장고')\n",
    "result.append('wework')\n",
    "result.append(2018)\n",
    "result"
   ]
  },
  {
   "cell_type": "code",
   "execution_count": 6,
   "metadata": {},
   "outputs": [
    {
     "data": {
      "text/plain": [
       "['오늘', '늘의', '날씨', '씨는', '어떻', '떻게', '되나', '나요']"
      ]
     },
     "execution_count": 6,
     "metadata": {},
     "output_type": "execute_result"
    }
   ],
   "source": [
    "ngram  = 2\n",
    "result = []\n",
    "\n",
    "for text in input_list:\n",
    "    for no in range(len(text) - (ngram-1)):\n",
    "        result.append(text[no:no + ngram])\n",
    "result"
   ]
  },
  {
   "cell_type": "code",
   "execution_count": 13,
   "metadata": {},
   "outputs": [
    {
     "data": {
      "text/plain": [
       "['we', 'ew', 'wo', 'or', 'rk', '수업', '업날', '날은', '항상', '날씨', '씨가', '좋다']"
      ]
     },
     "execution_count": 13,
     "metadata": {},
     "output_type": "execute_result"
    }
   ],
   "source": [
    "# 위의 내용을 함수로 만들기\n",
    "# 작업을 함수에 하청을 주고, 우리는 return 결과값만 메모리에 저장된다\n",
    "# 기타 중간과정들은 자동으로 메모리에서 버려진다\n",
    "def ngram(text, ngram=2):\n",
    "    result = []\n",
    "    input_list = text.split(' ')\n",
    "    for text in input_list:\n",
    "        for no in range(0, len(text) - (ngram - 1)):\n",
    "            result.append(text[no:no + ngram])\n",
    "    return result\n",
    "\n",
    "sentence = 'wework 수업날은 항상 날씨가 좋다'\n",
    "ngram(sentence)"
   ]
  },
  {
   "cell_type": "code",
   "execution_count": null,
   "metadata": {},
   "outputs": [],
   "source": []
  },
  {
   "cell_type": "code",
   "execution_count": null,
   "metadata": {},
   "outputs": [],
   "source": []
  },
  {
   "cell_type": "code",
   "execution_count": null,
   "metadata": {},
   "outputs": [],
   "source": []
  },
  {
   "cell_type": "code",
   "execution_count": null,
   "metadata": {},
   "outputs": [],
   "source": []
  },
  {
   "cell_type": "code",
   "execution_count": null,
   "metadata": {},
   "outputs": [],
   "source": []
  },
  {
   "cell_type": "code",
   "execution_count": 22,
   "metadata": {},
   "outputs": [],
   "source": [
    "    nowtime = '20120'\n",
    "    content_dict = {\n",
    "        '카톡': {\n",
    "                'message': {\n",
    "                    'text':'카카오톡 공식문서에서 답을 찾으세요',\n",
    "                    \"message_button\": {\n",
    "                        \"label\": \"Git Hub\",\n",
    "                        \"url\": \"https://github.com/plusfriend/auto_reply\"\n",
    "                    },\n",
    "                },\n",
    "                'keyboard':{'type':'text'}\n",
    "            },\n",
    "\n",
    "        '장고': {\n",
    "                'message': {\n",
    "                    'text':'장고학습 동영상 Site 에서 답을 찾아보세요',\n",
    "                    \"message_button\": {\n",
    "                        \"label\": \"장고 웹사이트 만들기\",\n",
    "                        \"url\": \"https://programmers.co.kr/learn/courses/6\"\n",
    "                    },\n",
    "                },\n",
    "                'keyboard':{'type':'text'}\n",
    "            },\n",
    "\n",
    "        '시간': {\n",
    "            'message': {\n",
    "                'text': '현재 시간은' + nowtime +'입니다'\n",
    "                },\n",
    "            'keyboard':{'type':'text'},\n",
    "            },\n",
    "        }"
   ]
  },
  {
   "cell_type": "code",
   "execution_count": 24,
   "metadata": {},
   "outputs": [
    {
     "data": {
      "text/plain": [
       "dict_keys(['message', 'keyboard3'])"
      ]
     },
     "execution_count": 24,
     "metadata": {},
     "output_type": "execute_result"
    }
   ],
   "source": [
    "content_dict['시간'].keys()"
   ]
  },
  {
   "cell_type": "code",
   "execution_count": null,
   "metadata": {},
   "outputs": [],
   "source": []
  }
 ],
 "metadata": {
  "kernelspec": {
   "display_name": "Python 3",
   "language": "python",
   "name": "python3"
  },
  "language_info": {
   "codemirror_mode": {
    "name": "ipython",
    "version": 3
   },
   "file_extension": ".py",
   "mimetype": "text/x-python",
   "name": "python",
   "nbconvert_exporter": "python",
   "pygments_lexer": "ipython3",
   "version": "3.6.3"
  }
 },
 "nbformat": 4,
 "nbformat_minor": 2
}
